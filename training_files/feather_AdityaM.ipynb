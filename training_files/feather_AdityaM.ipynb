{
 "cells": [
  {
   "cell_type": "markdown",
   "metadata": {},
   "source": [
    "## Aditya Manjunatha"
   ]
  },
  {
   "cell_type": "code",
   "execution_count": 1,
   "metadata": {},
   "outputs": [
    {
     "name": "stdout",
     "output_type": "stream",
     "text": [
      "\u001b[1;31mE: \u001b[0mCould not open lock file /var/lib/dpkg/lock-frontend - open (13: Permission denied)\u001b[0m\n",
      "\u001b[1;31mE: \u001b[0mUnable to acquire the dpkg frontend lock (/var/lib/dpkg/lock-frontend), are you root?\u001b[0m\n",
      "Defaulting to user installation because normal site-packages is not writeable\n",
      "Requirement already satisfied: torchviz in /home/maditya/.local/lib/python3.10/site-packages (0.0.2)\n",
      "Requirement already satisfied: torch in /home/maditya/.local/lib/python3.10/site-packages (from torchviz) (2.4.1)\n",
      "Requirement already satisfied: graphviz in /home/maditya/.local/lib/python3.10/site-packages (from torchviz) (0.20.3)\n",
      "Requirement already satisfied: nvidia-nvtx-cu12==12.1.105 in /home/maditya/.local/lib/python3.10/site-packages (from torch->torchviz) (12.1.105)\n",
      "Requirement already satisfied: fsspec in /home/maditya/.local/lib/python3.10/site-packages (from torch->torchviz) (2024.9.0)\n",
      "Requirement already satisfied: nvidia-cuda-nvrtc-cu12==12.1.105 in /home/maditya/.local/lib/python3.10/site-packages (from torch->torchviz) (12.1.105)\n",
      "Requirement already satisfied: nvidia-cuda-cupti-cu12==12.1.105 in /home/maditya/.local/lib/python3.10/site-packages (from torch->torchviz) (12.1.105)\n",
      "Requirement already satisfied: nvidia-cudnn-cu12==9.1.0.70 in /home/maditya/.local/lib/python3.10/site-packages (from torch->torchviz) (9.1.0.70)\n",
      "Requirement already satisfied: typing-extensions>=4.8.0 in /home/maditya/.local/lib/python3.10/site-packages (from torch->torchviz) (4.12.2)\n",
      "Requirement already satisfied: nvidia-cufft-cu12==11.0.2.54 in /home/maditya/.local/lib/python3.10/site-packages (from torch->torchviz) (11.0.2.54)\n",
      "Requirement already satisfied: nvidia-curand-cu12==10.3.2.106 in /home/maditya/.local/lib/python3.10/site-packages (from torch->torchviz) (10.3.2.106)\n",
      "Requirement already satisfied: nvidia-cusolver-cu12==11.4.5.107 in /home/maditya/.local/lib/python3.10/site-packages (from torch->torchviz) (11.4.5.107)\n",
      "Requirement already satisfied: triton==3.0.0 in /home/maditya/.local/lib/python3.10/site-packages (from torch->torchviz) (3.0.0)\n",
      "Requirement already satisfied: nvidia-nccl-cu12==2.20.5 in /home/maditya/.local/lib/python3.10/site-packages (from torch->torchviz) (2.20.5)\n",
      "Requirement already satisfied: jinja2 in /home/maditya/.local/lib/python3.10/site-packages (from torch->torchviz) (3.1.4)\n",
      "Requirement already satisfied: filelock in /home/maditya/.local/lib/python3.10/site-packages (from torch->torchviz) (3.16.1)\n",
      "Requirement already satisfied: sympy in /home/maditya/.local/lib/python3.10/site-packages (from torch->torchviz) (1.13.3)\n",
      "Requirement already satisfied: nvidia-cublas-cu12==12.1.3.1 in /home/maditya/.local/lib/python3.10/site-packages (from torch->torchviz) (12.1.3.1)\n",
      "Requirement already satisfied: nvidia-cusparse-cu12==12.1.0.106 in /home/maditya/.local/lib/python3.10/site-packages (from torch->torchviz) (12.1.0.106)\n",
      "Requirement already satisfied: nvidia-cuda-runtime-cu12==12.1.105 in /home/maditya/.local/lib/python3.10/site-packages (from torch->torchviz) (12.1.105)\n",
      "Requirement already satisfied: networkx in /home/maditya/.local/lib/python3.10/site-packages (from torch->torchviz) (3.3)\n",
      "Requirement already satisfied: nvidia-nvjitlink-cu12 in /home/maditya/.local/lib/python3.10/site-packages (from nvidia-cusolver-cu12==11.4.5.107->torch->torchviz) (12.6.77)\n",
      "Requirement already satisfied: MarkupSafe>=2.0 in /home/maditya/.local/lib/python3.10/site-packages (from jinja2->torch->torchviz) (3.0.2)\n",
      "Requirement already satisfied: mpmath<1.4,>=1.1.0 in /home/maditya/.local/lib/python3.10/site-packages (from sympy->torch->torchviz) (1.3.0)\n"
     ]
    }
   ],
   "source": [
    "!apt install torchviz\n",
    "!pip install torchviz\n",
    "\n",
    "# Importing torch packages\n",
    "import torch\n",
    "import torch.nn as nn\n",
    "import torch.nn.functional as F#All activation functions are present here\n",
    "import torch.optim as optim # Optimizer is stored here\n",
    "import torch\n",
    "import torchvision\n",
    "from torchvision import datasets, transforms\n",
    "from torch.utils.data import Dataset\n",
    "from torch.utils.data import DataLoader\n",
    "from torchsummary import summary\n",
    "import torchvision.models as models\n",
    "from torchviz import make_dot  #visualize computational graph\n",
    "from sklearn.preprocessing import LabelEncoder\n",
    "from sklearn.model_selection import train_test_split\n",
    "from sklearn.metrics import confusion_matrix\n",
    "from sklearn.metrics import classification_report\n",
    "\n",
    "# Importing other packages\n",
    "import numpy as np\n",
    "import pandas as pd\n",
    "import matplotlib.pyplot as plt\n",
    "import math\n",
    "import csv\n",
    "import os\n",
    "from PIL import Image"
   ]
  },
  {
   "cell_type": "code",
   "execution_count": 2,
   "metadata": {},
   "outputs": [
    {
     "name": "stdout",
     "output_type": "stream",
     "text": [
      "Using PyTorch version: 2.4.1+cu121 CUDA: True\n",
      "cuda\n"
     ]
    }
   ],
   "source": [
    "# To test whether GPU instance is present in the system or not.\n",
    "use_cuda = torch.cuda.is_available()\n",
    "print('Using PyTorch version:', torch.__version__, 'CUDA:', use_cuda)\n",
    "\n",
    "device = torch.device(\"cuda\" if use_cuda else \"cpu\")\n",
    "print(device)"
   ]
  },
  {
   "cell_type": "code",
   "execution_count": null,
   "metadata": {},
   "outputs": [],
   "source": [
    "# Set directory and CSV paths\n",
    "from pathlib import Path \n",
    "\n",
    "DATASET_DIR = Path(\"/home/maditya/Desktop/Feather classifier/feathersv1-dataset-master\")\n",
    "TRAIN_CSV = DATASET_DIR / \"data\" / \"train_top_50_species.csv\"\n",
    "TEST_CSV = DATASET_DIR / \"data\" / \"test_test_50_species.csv\"\n",
    "\n",
    "IMG_WIDTH, IMG_HEIGHT = 240, 40\n",
    "BATCH_SIZE = 16\n",
    "\n"
   ]
  },
  {
   "cell_type": "code",
   "execution_count": 4,
   "metadata": {},
   "outputs": [],
   "source": [
    "def load_data(csv_file, dataset_dir, label_type=\"species\"):\n",
    "    # Read image paths\n",
    "    image_paths = []\n",
    "    labels = []\n",
    "\n",
    "    with open(csv_file, \"r\") as file:\n",
    "        file.readline()  # skip header\n",
    "        for line in file:\n",
    "            parts = [x.lower().replace(\" \", \"_\") for x in line.strip().split(\",\")]\n",
    "            image_path = dataset_dir / \"images\" / parts[1] / parts[2] / parts[0]\n",
    "            image_paths.append(image_path.as_posix())\n",
    "            labels.append(parts[2] if label_type == \"species\" else parts[1])\n",
    "\n",
    "    return pd.DataFrame({\"imgpath\": image_paths, \"label\": labels})\n",
    "    \n",
    "train_df = load_data(TRAIN_CSV, DATASET_DIR)\n",
    "test_df = load_data(TEST_CSV, DATASET_DIR)\n"
   ]
  },
  {
   "cell_type": "code",
   "execution_count": 5,
   "metadata": {},
   "outputs": [
    {
     "name": "stdout",
     "output_type": "stream",
     "text": [
      "Encoded Label \t Original Label\n",
      "0 \t\t accipiter_gentilis\n",
      "1 \t\t accipiter_nisus\n",
      "2 \t\t acrocephalus_palustris\n",
      "3 \t\t acrocephalus_schoenobaenus\n",
      "4 \t\t acrocephalus_scirpaceus\n",
      "5 \t\t actitis_hypoleucos\n",
      "6 \t\t aix_galericulata\n",
      "7 \t\t aix_sponsa\n",
      "8 \t\t alca_torda\n",
      "9 \t\t alcedo_atthis\n",
      "10 \t\t anas_acuta\n",
      "11 \t\t anas_clypeata\n",
      "12 \t\t anas_crecca\n",
      "13 \t\t anas_platyrhynchos\n",
      "14 \t\t anser_anser\n",
      "15 \t\t apus_apus\n",
      "16 \t\t aquila_chrysaetos\n",
      "17 \t\t asio_flammeus\n",
      "18 \t\t asio_otus\n",
      "19 \t\t athene_noctua\n",
      "20 \t\t aythya_ferina\n",
      "21 \t\t bombycilla_garrulus\n",
      "22 \t\t botaurus_stellaris\n",
      "23 \t\t calidris_alpina\n",
      "24 \t\t calidris_canutus\n",
      "25 \t\t caprimulgus_climacurus\n",
      "26 \t\t caprimulgus_europaeus\n",
      "27 \t\t carduelis_cannabina\n",
      "28 \t\t carduelis_carduelis\n",
      "29 \t\t charadrius_dubius\n",
      "30 \t\t chenonetta_jubata\n",
      "31 \t\t chloris_chloris\n",
      "32 \t\t circus_aeruginosus\n",
      "33 \t\t circus_cyaneus\n",
      "34 \t\t dendrocopos_major\n",
      "35 \t\t garrulus_glandarius\n",
      "36 \t\t haematopus_ostralegus\n",
      "37 \t\t larus_canus\n",
      "38 \t\t larus_crassirostris\n",
      "39 \t\t larus_fuscus\n",
      "40 \t\t milvus_milvus\n",
      "41 \t\t phasianus_colchicus\n",
      "42 \t\t phoenicopterus_roseus\n",
      "43 \t\t picus_viridis\n",
      "44 \t\t pluvialis_squatarola\n",
      "45 \t\t polyplectron_schleiermacheri\n",
      "46 \t\t strix_aluco\n",
      "47 \t\t tetrao_urogallus\n",
      "48 \t\t tringa_totanus\n",
      "49 \t\t tyto_alba\n"
     ]
    }
   ],
   "source": [
    "label_encoder = LabelEncoder()\n",
    "train_df['encoded_labels'] = label_encoder.fit_transform(train_df['label'])\n",
    "test_df['encoded_labels'] = label_encoder.transform(test_df['label'])\n",
    "\n",
    "# Print unique encoded labels and their mappings\n",
    "print(\"Encoded Label \\t Original Label\")\n",
    "for encoded_label, original_label in enumerate(label_encoder.classes_):\n",
    "    print(f\"{encoded_label} \\t\\t {original_label}\")\n"
   ]
  },
  {
   "cell_type": "code",
   "execution_count": 6,
   "metadata": {},
   "outputs": [],
   "source": [
    "class CustomFeatherDataset(Dataset):\n",
    "    def __init__(self, df, transform=None):\n",
    "        self.df = df\n",
    "        self.transform = transform\n",
    "\n",
    "    def __len__(self):\n",
    "        return len(self.df)\n",
    "\n",
    "    def __getitem__(self, idx):\n",
    "        img_path = self.df.loc[idx, 'imgpath']\n",
    "        image = Image.open(img_path).convert('RGB')\n",
    "        label = self.df.loc[idx, 'encoded_labels']\n",
    "        \n",
    "        if self.transform:\n",
    "            image = self.transform(image)\n",
    "        return image, label\n",
    "\n",
    "train_transform = transforms.Compose([\n",
    "    transforms.Resize((IMG_WIDTH, IMG_HEIGHT)),\n",
    "    transforms.ColorJitter(brightness=0.15, contrast=0.2, saturation=0.2),\n",
    "    transforms.RandomHorizontalFlip(),\n",
    "    transforms.ToTensor(),\n",
    "    transforms.Normalize(mean=[0.485, 0.456, 0.406], std=[0.229, 0.224, 0.225])\n",
    "])\n",
    "\n",
    "test_transform = transforms.Compose([\n",
    "    transforms.Resize((IMG_WIDTH, IMG_HEIGHT)),\n",
    "    transforms.ToTensor(),\n",
    "    transforms.Normalize(mean=[0.485, 0.456, 0.406], std=[0.229, 0.224, 0.225])\n",
    "])\n"
   ]
  },
  {
   "cell_type": "code",
   "execution_count": 7,
   "metadata": {},
   "outputs": [
    {
     "name": "stdout",
     "output_type": "stream",
     "text": [
      "Train dataset size: 8251\n",
      "Test dataset size: 2063\n"
     ]
    }
   ],
   "source": [
    "# Create datasets\n",
    "train_dataset = CustomFeatherDataset(train_df, transform=train_transform)\n",
    "test_dataset = CustomFeatherDataset(test_df, transform=test_transform)\n",
    "\n",
    "# Create data loaders\n",
    "train_loader = DataLoader(train_dataset, batch_size=BATCH_SIZE, shuffle=True)\n",
    "test_loader = DataLoader(test_dataset, batch_size=BATCH_SIZE, shuffle=False)\n",
    "\n",
    "print(f\"Train dataset size: {len(train_dataset)}\")\n",
    "print(f\"Test dataset size: {len(test_dataset)}\")\n"
   ]
  },
  {
   "cell_type": "code",
   "execution_count": 8,
   "metadata": {},
   "outputs": [
    {
     "name": "stdout",
     "output_type": "stream",
     "text": [
      "Images batch shape: torch.Size([32, 3, 240, 40])\n",
      "Labels batch shape: torch.Size([32])\n",
      "Images batch shape: torch.Size([32, 3, 240, 40])\n",
      "Labels batch shape: torch.Size([32])\n"
     ]
    }
   ],
   "source": [
    "for images, labels in train_loader:\n",
    "    print(\"Images batch shape:\", images.shape)\n",
    "    print(\"Labels batch shape:\", labels.shape)\n",
    "    #print(\"Labels batch values:\", labels)\n",
    "    #print(\"Images[0]\", images[0])\n",
    "    #print(\"Labels[0]\", labels[0])\n",
    "    break  # Just print for one batch\n",
    "\n",
    "for images, labels in test_loader:\n",
    "    print(\"Images batch shape:\", images.shape)\n",
    "    print(\"Labels batch shape:\", labels.shape)\n",
    "    break"
   ]
  },
  {
   "cell_type": "markdown",
   "metadata": {},
   "source": [
    "### Training a EfficientNetB3 model ( commented out other models)"
   ]
  },
  {
   "cell_type": "code",
   "execution_count": null,
   "metadata": {},
   "outputs": [
    {
     "name": "stderr",
     "output_type": "stream",
     "text": [
      "/home/maditya/.local/lib/python3.10/site-packages/torchvision/models/_utils.py:208: UserWarning: The parameter 'pretrained' is deprecated since 0.13 and may be removed in the future, please use 'weights' instead.\n",
      "  warnings.warn(\n",
      "/home/maditya/.local/lib/python3.10/site-packages/torchvision/models/_utils.py:223: UserWarning: Arguments other than a weight enum or `None` for 'weights' are deprecated since 0.13 and may be removed in the future. The current behavior is equivalent to passing `weights=EfficientNet_B3_Weights.IMAGENET1K_V1`. You can also use `weights=EfficientNet_B3_Weights.DEFAULT` to get the most up-to-date weights.\n",
      "  warnings.warn(msg)\n"
     ]
    },
    {
     "name": "stdout",
     "output_type": "stream",
     "text": [
      "Batch size: 32, Learning rate: 0.001, Number of epochs: 10\n"
     ]
    }
   ],
   "source": [
    "# Load the pretrained EfficientNetB3 model\n",
    "model = models.efficientnet_b3(pretrained=True)\n",
    "#model = models.resnet50(pretrained=True)\n",
    "#model = models.denseNet121(pretrained=True)\n",
    "#model = models.mobilenet_v2(pretrained=True)\n",
    "num_ftrs = model.classifier[1].in_features\n",
    "model.classifier[1] = nn.Linear(num_ftrs, 50)\n",
    "model = model.to(device)\n",
    "\n",
    "# Set BatchNorm layers as non-trainable for fine-tuning\n",
    "for param in model.parameters():\n",
    "    param.requires_grad = True\n",
    "\n",
    "for module in model.modules():\n",
    "    if isinstance(module, nn.BatchNorm2d):\n",
    "        module.eval()  # Set to evaluation mode\n",
    "        for param in module.parameters():\n",
    "            param.requires_grad = False\n",
    "\n",
    "# CHange above too\n",
    "BATCH_SIZE = 16\n",
    "lr = 0.001\n",
    "num_epochs = 10\n",
    "\n",
    "criterion = nn.CrossEntropyLoss()\n",
    "optimizer = optim.Adam(model.parameters(), lr=lr)\n",
    "\n",
    "train_losses = []\n",
    "valid_losses = []\n",
    "train_acc = []\n",
    "valid_acc = []\n",
    "best_valid_loss = float('inf')\n",
    "\n",
    "print(f\"Batch size: {BATCH_SIZE}, Learning rate: {lr}, Number of epochs: {num_epochs}\")\n"
   ]
  },
  {
   "cell_type": "code",
   "execution_count": null,
   "metadata": {},
   "outputs": [
    {
     "name": "stdout",
     "output_type": "stream",
     "text": [
      "\n",
      "Epoch 1/10\n"
     ]
    },
    {
     "name": "stderr",
     "output_type": "stream",
     "text": [
      "Training: 100%|██████████| 258/258 [00:34<00:00,  7.44it/s]\n",
      "Validating: 100%|██████████| 65/65 [00:03<00:00, 17.11it/s]\n"
     ]
    },
    {
     "name": "stdout",
     "output_type": "stream",
     "text": [
      "Epoch 1/10, Train Loss: 1.7526, Train Acc: 0.5333, Val Loss: 0.6819, Val Acc: 0.8022\n",
      "Model weights saved for epoch 1 with validation loss: 0.6819\n",
      "\n",
      "Epoch 2/10\n"
     ]
    },
    {
     "name": "stderr",
     "output_type": "stream",
     "text": [
      "Training: 100%|██████████| 258/258 [00:34<00:00,  7.48it/s]\n",
      "Validating: 100%|██████████| 65/65 [00:03<00:00, 17.07it/s]\n"
     ]
    },
    {
     "name": "stdout",
     "output_type": "stream",
     "text": [
      "Epoch 2/10, Train Loss: 0.5371, Train Acc: 0.8401, Val Loss: 0.3602, Val Acc: 0.8924\n",
      "Model weights saved for epoch 2 with validation loss: 0.3602\n",
      "\n",
      "Epoch 3/10\n"
     ]
    },
    {
     "name": "stderr",
     "output_type": "stream",
     "text": [
      "Training: 100%|██████████| 258/258 [00:34<00:00,  7.47it/s]\n",
      "Validating: 100%|██████████| 65/65 [00:03<00:00, 16.88it/s]\n"
     ]
    },
    {
     "name": "stdout",
     "output_type": "stream",
     "text": [
      "Epoch 3/10, Train Loss: 0.2920, Train Acc: 0.9144, Val Loss: 0.2366, Val Acc: 0.9341\n",
      "Model weights saved for epoch 3 with validation loss: 0.2366\n",
      "\n",
      "Epoch 4/10\n"
     ]
    },
    {
     "name": "stderr",
     "output_type": "stream",
     "text": [
      "Training: 100%|██████████| 258/258 [00:34<00:00,  7.47it/s]\n",
      "Validating: 100%|██████████| 65/65 [00:03<00:00, 17.18it/s]\n"
     ]
    },
    {
     "name": "stdout",
     "output_type": "stream",
     "text": [
      "Epoch 4/10, Train Loss: 0.2320, Train Acc: 0.9259, Val Loss: 0.2976, Val Acc: 0.9200\n",
      "\n",
      "Epoch 5/10\n"
     ]
    },
    {
     "name": "stderr",
     "output_type": "stream",
     "text": [
      "Training: 100%|██████████| 258/258 [00:34<00:00,  7.45it/s]\n",
      "Validating: 100%|██████████| 65/65 [00:03<00:00, 17.08it/s]\n"
     ]
    },
    {
     "name": "stdout",
     "output_type": "stream",
     "text": [
      "Epoch 5/10, Train Loss: 0.1757, Train Acc: 0.9463, Val Loss: 0.2406, Val Acc: 0.9331\n",
      "\n",
      "Epoch 6/10\n"
     ]
    },
    {
     "name": "stderr",
     "output_type": "stream",
     "text": [
      "Training: 100%|██████████| 258/258 [00:34<00:00,  7.47it/s]\n",
      "Validating: 100%|██████████| 65/65 [00:03<00:00, 17.16it/s]\n"
     ]
    },
    {
     "name": "stdout",
     "output_type": "stream",
     "text": [
      "Epoch 6/10, Train Loss: 0.1727, Train Acc: 0.9439, Val Loss: 0.2280, Val Acc: 0.9365\n",
      "Model weights saved for epoch 6 with validation loss: 0.2280\n",
      "\n",
      "Epoch 7/10\n"
     ]
    },
    {
     "name": "stderr",
     "output_type": "stream",
     "text": [
      "Training: 100%|██████████| 258/258 [00:34<00:00,  7.46it/s]\n",
      "Validating: 100%|██████████| 65/65 [00:03<00:00, 17.12it/s]\n"
     ]
    },
    {
     "name": "stdout",
     "output_type": "stream",
     "text": [
      "Epoch 7/10, Train Loss: 0.1265, Train Acc: 0.9621, Val Loss: 0.2304, Val Acc: 0.9389\n",
      "\n",
      "Epoch 8/10\n"
     ]
    },
    {
     "name": "stderr",
     "output_type": "stream",
     "text": [
      "Training: 100%|██████████| 258/258 [00:34<00:00,  7.47it/s]\n",
      "Validating: 100%|██████████| 65/65 [00:03<00:00, 17.08it/s]\n"
     ]
    },
    {
     "name": "stdout",
     "output_type": "stream",
     "text": [
      "Epoch 8/10, Train Loss: 0.1263, Train Acc: 0.9635, Val Loss: 0.1641, Val Acc: 0.9583\n",
      "Model weights saved for epoch 8 with validation loss: 0.1641\n",
      "\n",
      "Epoch 9/10\n"
     ]
    },
    {
     "name": "stderr",
     "output_type": "stream",
     "text": [
      "Training: 100%|██████████| 258/258 [00:34<00:00,  7.46it/s]\n",
      "Validating: 100%|██████████| 65/65 [00:03<00:00, 17.06it/s]\n"
     ]
    },
    {
     "name": "stdout",
     "output_type": "stream",
     "text": [
      "Epoch 9/10, Train Loss: 0.1124, Train Acc: 0.9659, Val Loss: 0.1874, Val Acc: 0.9535\n",
      "\n",
      "Epoch 10/10\n"
     ]
    },
    {
     "name": "stderr",
     "output_type": "stream",
     "text": [
      "Training: 100%|██████████| 258/258 [00:34<00:00,  7.47it/s]\n",
      "Validating: 100%|██████████| 65/65 [00:03<00:00, 17.11it/s]\n"
     ]
    },
    {
     "name": "stdout",
     "output_type": "stream",
     "text": [
      "Epoch 10/10, Train Loss: 0.1179, Train Acc: 0.9629, Val Loss: 0.2182, Val Acc: 0.9423\n",
      "Batch size: 32, Learning rate: 0.001, Number of epochs: 10\n",
      "Best training accuracy: 0.97%\n",
      "Best validation accuracy: 0.96%\n",
      "Plots for current hyperparameter combination:\n"
     ]
    },
    {
     "data": {
      "image/png": "[encoded data removed]",
      "text/plain": [
       "<Figure size 800x600 with 2 Axes>"
      ]
     },
     "metadata": {},
     "output_type": "display_data"
    }
   ],
   "source": [
    "from tqdm import tqdm\n",
    "\n",
    "for epoch in range(num_epochs):\n",
    "    print(f\"\\nEpoch {epoch+1}/{num_epochs}\")\n",
    "    model.train()\n",
    "    running_train_loss = 0.0\n",
    "    running_val_loss = 0.0\n",
    "    correct_train = 0\n",
    "    total_train = 0\n",
    "    correct_val = 0\n",
    "    total_val = 0\n",
    "\n",
    "    for images, labels in tqdm(train_loader, desc = \"Training\", leave = True):\n",
    "        images, labels = images.to(device), labels.to(device)\n",
    "        optimizer.zero_grad()\n",
    "        outputs = model(images)\n",
    "        loss = criterion(outputs, labels)\n",
    "        loss.backward()\n",
    "        optimizer.step()\n",
    "        running_train_loss += loss.item()\n",
    "        _, predicted = torch.max(outputs, 1)\n",
    "        total_train += labels.size(0)\n",
    "        correct_train += (predicted == labels).sum().item()\n",
    "\n",
    "    model.eval()\n",
    "    with torch.no_grad():\n",
    "        for images, labels in tqdm(test_loader, desc = \"Validating\", leave = True):\n",
    "            images, labels = images.to(device), labels.to(device)\n",
    "            outputs = model(images)\n",
    "            loss = criterion(outputs, labels)\n",
    "            running_val_loss += loss.item()\n",
    "            _, predicted = torch.max(outputs, 1)\n",
    "            total_val += labels.size(0)\n",
    "            correct_val += (predicted == labels).sum().item()\n",
    "\n",
    "    epoch_train_loss = running_train_loss / len(train_loader)\n",
    "    epoch_val_loss = running_val_loss / len(test_loader)\n",
    "    train_losses.append(epoch_train_loss)\n",
    "    valid_losses.append(epoch_val_loss)\n",
    "\n",
    "    epoch_train_acc = correct_train / total_train\n",
    "    epoch_val_acc = correct_val / total_val\n",
    "    train_acc.append(epoch_train_acc)\n",
    "    valid_acc.append(epoch_val_acc)\n",
    "\n",
    "    print(f'Epoch {epoch+1}/{num_epochs}, Train Loss: {epoch_train_loss:.4f}, Train Acc: {epoch_train_acc:.4f}, Val Loss: {epoch_val_loss:.4f}, Val Acc: {epoch_val_acc:.4f}')\n",
    "\n",
    "    if epoch_val_loss < best_valid_loss:\n",
    "        best_valid_loss = epoch_val_loss\n",
    "        torch.save(model.state_dict(), 'best_model_FT_feather_b7.pth')\n",
    "        print(f\"Model weights saved for epoch {epoch + 1} with validation loss: {best_valid_loss:.4f}\")\n",
    "\n",
    "    # Clear CUDA cache\n",
    "    torch.cuda.empty_cache()\n",
    "\n",
    "print(f\"Batch size: {BATCH_SIZE}, Learning rate: {lr}, Number of epochs: {num_epochs}\")\n",
    "print(f\"Best training accuracy: {max(train_acc):.2f}%\")\n",
    "print(f\"Best validation accuracy: {max(valid_acc):.2f}%\")\n",
    "print(\"Plots for current hyperparameter combination:\")\n",
    "epochs_range = range(1, num_epochs + 1)\n",
    "plt.figure(figsize=(8, 6))\n",
    "# Plot loss\n",
    "plt.subplot(1, 2, 1)\n",
    "plt.plot(epochs_range, train_losses, label='Train Loss')\n",
    "plt.plot(epochs_range, valid_losses, label='Val Loss')\n",
    "plt.xlabel('Epochs')\n",
    "plt.ylabel('Loss')\n",
    "plt.title('Train and Validation Loss')\n",
    "plt.legend()\n",
    "# Plot accuracy\n",
    "plt.subplot(1, 2, 2)\n",
    "plt.plot(epochs_range, train_acc, label='Train Accuracy')\n",
    "plt.plot(epochs_range, valid_acc, label='Val Accuracy')\n",
    "plt.xlabel('Epochs')\n",
    "plt.ylabel('Accuracy')\n",
    "plt.title('Train and Validation Accuracy')\n",
    "plt.legend()\n",
    "plt.tight_layout()\n",
    "plt.show()\n"
   ]
  }
 ],
 "metadata": {
  "kernelspec": {
   "display_name": "Python 3",
   "language": "python",
   "name": "python3"
  },
  "language_info": {
   "codemirror_mode": {
    "name": "ipython",
    "version": 3
   },
   "file_extension": ".py",
   "mimetype": "text/x-python",
   "name": "python",
   "nbconvert_exporter": "python",
   "pygments_lexer": "ipython3",
   "version": "3.10.12"
  }
 },
 "nbformat": 4,
 "nbformat_minor": 2
}
