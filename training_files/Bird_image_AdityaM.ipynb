{
 "cells": [
  {
   "cell_type": "markdown",
   "metadata": {},
   "source": [
    "## Aditya Manjunatha"
   ]
  },
  {
   "cell_type": "code",
   "execution_count": 1,
   "metadata": {
    "colab": {
     "base_uri": "https://localhost:8080/"
    },
    "id": "SzDoFXgzc_zQ",
    "outputId": "c9244dcb-6187-433d-c291-97e5706ecf95"
   },
   "outputs": [
    {
     "name": "stderr",
     "output_type": "stream",
     "text": [
      "/home/maditya/.local/lib/python3.10/site-packages/tqdm/auto.py:21: TqdmWarning: IProgress not found. Please update jupyter and ipywidgets. See https://ipywidgets.readthedocs.io/en/stable/user_install.html\n",
      "  from .autonotebook import tqdm as notebook_tqdm\n"
     ]
    },
    {
     "name": "stdout",
     "output_type": "stream",
     "text": [
      "Data source import complete.\n"
     ]
    }
   ],
   "source": [
    "import kagglehub\n",
    "ichhadhari_indian_birds_path = kagglehub.dataset_download('ichhadhari/indian-birds')\n",
    "\n",
    "print('Data source import complete.')"
   ]
  },
  {
   "cell_type": "code",
   "execution_count": 2,
   "metadata": {
    "colab": {
     "base_uri": "https://localhost:8080/"
    },
    "id": "mw83l_mnfSLj",
    "outputId": "4b717cba-8785-4efe-fb8b-61ce2a7d776a"
   },
   "outputs": [
    {
     "name": "stdout",
     "output_type": "stream",
     "text": [
      "\u001b[1;31mE: \u001b[0mCould not open lock file /var/lib/dpkg/lock-frontend - open (13: Permission denied)\u001b[0m\n",
      "\u001b[1;31mE: \u001b[0mUnable to acquire the dpkg frontend lock (/var/lib/dpkg/lock-frontend), are you root?\u001b[0m\n",
      "Defaulting to user installation because normal site-packages is not writeable\n",
      "Requirement already satisfied: torchviz in /home/maditya/.local/lib/python3.10/site-packages (0.0.2)\n",
      "Requirement already satisfied: graphviz in /home/maditya/.local/lib/python3.10/site-packages (from torchviz) (0.20.3)\n",
      "Requirement already satisfied: torch in /home/maditya/.local/lib/python3.10/site-packages (from torchviz) (2.5.1)\n",
      "Requirement already satisfied: nvidia-cuda-runtime-cu12==12.4.127 in /home/maditya/.local/lib/python3.10/site-packages (from torch->torchviz) (12.4.127)\n",
      "Requirement already satisfied: nvidia-nccl-cu12==2.21.5 in /home/maditya/.local/lib/python3.10/site-packages (from torch->torchviz) (2.21.5)\n",
      "Requirement already satisfied: nvidia-cusolver-cu12==11.6.1.9 in /home/maditya/.local/lib/python3.10/site-packages (from torch->torchviz) (11.6.1.9)\n",
      "Requirement already satisfied: nvidia-cuda-cupti-cu12==12.4.127 in /home/maditya/.local/lib/python3.10/site-packages (from torch->torchviz) (12.4.127)\n",
      "Requirement already satisfied: nvidia-cuda-nvrtc-cu12==12.4.127 in /home/maditya/.local/lib/python3.10/site-packages (from torch->torchviz) (12.4.127)\n",
      "Requirement already satisfied: nvidia-cublas-cu12==12.4.5.8 in /home/maditya/.local/lib/python3.10/site-packages (from torch->torchviz) (12.4.5.8)\n",
      "Requirement already satisfied: nvidia-nvjitlink-cu12==12.4.127 in /home/maditya/.local/lib/python3.10/site-packages (from torch->torchviz) (12.4.127)\n",
      "Requirement already satisfied: networkx in /home/maditya/.local/lib/python3.10/site-packages (from torch->torchviz) (3.4.2)\n",
      "Requirement already satisfied: nvidia-curand-cu12==10.3.5.147 in /home/maditya/.local/lib/python3.10/site-packages (from torch->torchviz) (10.3.5.147)\n",
      "Requirement already satisfied: nvidia-cufft-cu12==11.2.1.3 in /home/maditya/.local/lib/python3.10/site-packages (from torch->torchviz) (11.2.1.3)\n",
      "Requirement already satisfied: nvidia-cusparse-cu12==12.3.1.170 in /home/maditya/.local/lib/python3.10/site-packages (from torch->torchviz) (12.3.1.170)\n",
      "Requirement already satisfied: typing-extensions>=4.8.0 in /home/maditya/.local/lib/python3.10/site-packages (from torch->torchviz) (4.12.2)\n",
      "Requirement already satisfied: fsspec in /home/maditya/.local/lib/python3.10/site-packages (from torch->torchviz) (2024.10.0)\n",
      "Requirement already satisfied: jinja2 in /home/maditya/.local/lib/python3.10/site-packages (from torch->torchviz) (3.1.4)\n",
      "Requirement already satisfied: sympy==1.13.1 in /home/maditya/.local/lib/python3.10/site-packages (from torch->torchviz) (1.13.1)\n",
      "Requirement already satisfied: triton==3.1.0 in /home/maditya/.local/lib/python3.10/site-packages (from torch->torchviz) (3.1.0)\n",
      "Requirement already satisfied: nvidia-nvtx-cu12==12.4.127 in /home/maditya/.local/lib/python3.10/site-packages (from torch->torchviz) (12.4.127)\n",
      "Requirement already satisfied: nvidia-cudnn-cu12==9.1.0.70 in /home/maditya/.local/lib/python3.10/site-packages (from torch->torchviz) (9.1.0.70)\n",
      "Requirement already satisfied: filelock in /home/maditya/.local/lib/python3.10/site-packages (from torch->torchviz) (3.16.1)\n",
      "Requirement already satisfied: mpmath<1.4,>=1.1.0 in /home/maditya/.local/lib/python3.10/site-packages (from sympy==1.13.1->torch->torchviz) (1.3.0)\n",
      "Requirement already satisfied: MarkupSafe>=2.0 in /usr/lib/python3/dist-packages (from jinja2->torch->torchviz) (2.0.1)\n"
     ]
    }
   ],
   "source": [
    "!apt install torchviz\n",
    "!pip install torchviz"
   ]
  },
  {
   "cell_type": "code",
   "execution_count": 3,
   "metadata": {
    "id": "qmwLOASYc_zT"
   },
   "outputs": [],
   "source": [
    "# Importing torch packages\n",
    "import torch\n",
    "import torch.nn as nn\n",
    "import torch.nn.functional as F#All activation functions are present here\n",
    "import torch.optim as optim # Optimizer is stored here\n",
    "import torch\n",
    "import torchvision\n",
    "from torchvision import datasets, transforms\n",
    "from torch.utils.data import Dataset\n",
    "from torch.utils.data import DataLoader\n",
    "from torchsummary import summary\n",
    "import torchvision.models as models\n",
    "from torchviz import make_dot  #visualize computational graph\n",
    "from sklearn.preprocessing import LabelEncoder\n",
    "from sklearn.model_selection import train_test_split\n",
    "from sklearn.metrics import confusion_matrix\n",
    "from sklearn.metrics import classification_report\n",
    "\n",
    "# Importing other packages\n",
    "import numpy as np\n",
    "import pandas as pd\n",
    "import matplotlib.pyplot as plt\n",
    "import math\n",
    "import csv\n",
    "import os\n",
    "from PIL import Image"
   ]
  },
  {
   "cell_type": "markdown",
   "metadata": {
    "id": "qBN6AqL3dmUR"
   },
   "source": [
    "### Using GPU"
   ]
  },
  {
   "cell_type": "code",
   "execution_count": 4,
   "metadata": {
    "colab": {
     "base_uri": "https://localhost:8080/"
    },
    "id": "EOIQpd-ic_zU",
    "outputId": "54c3279d-f5a2-49a3-dbbd-52899781923b"
   },
   "outputs": [
    {
     "name": "stdout",
     "output_type": "stream",
     "text": [
      "Using PyTorch version: 2.5.1+cu124 CUDA: True\n",
      "cuda\n"
     ]
    }
   ],
   "source": [
    "# To test whether GPU instance is present in the system or not.\n",
    "use_cuda = torch.cuda.is_available()\n",
    "print('Using PyTorch version:', torch.__version__, 'CUDA:', use_cuda)\n",
    "\n",
    "device = torch.device(\"cuda\" if use_cuda else \"cpu\")\n",
    "print(device)"
   ]
  },
  {
   "cell_type": "markdown",
   "metadata": {
    "id": "1y1f3va3dsy6"
   },
   "source": [
    "### Creating the Dataset"
   ]
  },
  {
   "cell_type": "code",
   "execution_count": 5,
   "metadata": {
    "colab": {
     "base_uri": "https://localhost:8080/"
    },
    "id": "x8lhz_tZc_zV",
    "outputId": "cdef232b-cf08-42e6-c17d-a9b369fe84e0"
   },
   "outputs": [
    {
     "name": "stdout",
     "output_type": "stream",
     "text": [
      "Size of train df 30000\n",
      "Size of valid df 3750\n",
      "Size of test df 3750\n"
     ]
    }
   ],
   "source": [
    "dataset = {\n",
    "    \"train_data\": os.path.join(ichhadhari_indian_birds_path, 'Birds_25', 'train'),\n",
    "    \"valid_data\": os.path.join(ichhadhari_indian_birds_path, 'Birds_25', 'valid'),\n",
    "}\n",
    "\n",
    "all_data = []\n",
    "for path in dataset.values():\n",
    "    data = {\"imgpath\": [] , \"labels\": [] }\n",
    "    category = os.listdir(path)\n",
    "\n",
    "    for folder in category:\n",
    "        folderpath = os.path.join(path , folder)\n",
    "        filelist = os.listdir(folderpath)\n",
    "        for file in filelist:\n",
    "            fpath = os.path.join(folderpath, file)\n",
    "            data[\"imgpath\"].append(fpath)\n",
    "            data[\"labels\"].append(folder)\n",
    "\n",
    "\n",
    "    all_data.append(data.copy())\n",
    "    data.clear()\n",
    "\n",
    "\n",
    "\n",
    "train_df = pd.DataFrame(all_data[0] , index=range(len(all_data[0]['imgpath'])))\n",
    "valid_df = pd.DataFrame(all_data[1] , index=range(len(all_data[1]['imgpath'])))\n",
    "\n",
    "\n",
    "#Convert labels to numbers\n",
    "lb = LabelEncoder()\n",
    "train_df['encoded_labels'] = lb.fit_transform(train_df['labels'])\n",
    "valid_df['encoded_labels'] = lb.fit_transform(valid_df['labels'])\n",
    "\n",
    "valid_df , test_df = train_test_split(valid_df ,  train_size= 0.50 , shuffle=True, random_state=124)\n",
    "valid_df = valid_df.reset_index(drop=True)\n",
    "test_df = test_df.reset_index(drop=True)\n",
    "\n",
    "print(f\"Size of train df {len(train_df)}\")\n",
    "print(f\"Size of valid df {len(valid_df)}\")\n",
    "print(f\"Size of test df {len(test_df)}\")\n"
   ]
  },
  {
   "cell_type": "code",
   "execution_count": 6,
   "metadata": {
    "colab": {
     "base_uri": "https://localhost:8080/",
     "height": 1000
    },
    "id": "gXy2yQQjc_zW",
    "outputId": "98690896-1dbe-4b9d-d261-cdf66ad4f5e0"
   },
   "outputs": [
    {
     "data": {
      "image/png": "[encoded data removed]",
      "text/plain": [
       "<Figure size 1700x1700 with 1 Axes>"
      ]
     },
     "metadata": {},
     "output_type": "display_data"
    }
   ],
   "source": [
    "train  = train_df[\"labels\"].value_counts()\n",
    "label = train.tolist()\n",
    "index = train.index.tolist()\n",
    "\n",
    "colors = [\n",
    "    \"#1f77b4\", \"#ff7f0e\", \"#2ca02c\", \"#d62728\", \"#9467bd\",\n",
    "    \"#8c564b\", \"#e377c2\", \"#7f7f7f\", \"#bcbd22\", \"#17becf\",\n",
    "    \"#aec7e8\", \"#ffbb78\", \"#98df8a\", \"#ff9896\", \"#c5b0d5\",\n",
    "    \"#c49c94\", \"#f7b6d2\", \"#c7c7c7\", \"#dbdb8d\", \"#9edae5\",\n",
    "    \"#5254a3\", \"#6b6ecf\", \"#bdbdbd\", \"#8ca252\", \"#bd9e39\",\n",
    "    \"#ad494a\", \"#8c6d31\", \"#6b6ecf\", \"#e7ba52\", \"#ce6dbd\",\n",
    "    \"#9c9ede\", \"#cedb9c\", \"#de9ed6\", \"#ad494a\", \"#d6616b\",\n",
    "    \"#f7f7f7\", \"#7b4173\", \"#a55194\", \"#ce6dbd\"\n",
    "]\n",
    "\n",
    "\n",
    "\n",
    "plt.figure(figsize=(17,17))\n",
    "plt.title(\"Training data images count per class\",fontsize=38)\n",
    "plt.xlabel('Number of images', fontsize=35)\n",
    "plt.ylabel('Classes', fontsize=35)\n",
    "plt.barh(index,label, color=colors)\n",
    "plt.grid(True)\n",
    "plt.show()"
   ]
  },
  {
   "cell_type": "code",
   "execution_count": null,
   "metadata": {
    "id": "tG2hNZ0Oc_zW"
   },
   "outputs": [],
   "source": [
    "plt.figure(figsize=(15,12))\n",
    "for i, row in valid_df.sample(n=16).reset_index().iterrows():\n",
    "    plt.subplot(4,4,i+1)\n",
    "    image_path = row['imgpath']\n",
    "    image = Image.open(image_path)\n",
    "    plt.imshow(image)\n",
    "    plt.title(row[\"labels\"])\n",
    "    plt.axis('off')\n",
    "plt.show()"
   ]
  },
  {
   "cell_type": "code",
   "execution_count": 7,
   "metadata": {
    "colab": {
     "base_uri": "https://localhost:8080/"
    },
    "id": "OcjYlp6Qc_zb",
    "outputId": "af4c78bd-73f3-48ba-949a-7ce693d60f66"
   },
   "outputs": [
    {
     "name": "stdout",
     "output_type": "stream",
     "text": [
      "Train dataset size: 30000\n",
      "Valid dataset size: 3750\n",
      "Test dataset size: 3750\n"
     ]
    }
   ],
   "source": [
    "#batch_size = 32\n",
    "#image_size = (224, 224)\n",
    "BATCH_SIZE = 8\n",
    "IMAGE_SIZE = (224, 224)\n",
    "\n",
    "class CustomDataset(Dataset):\n",
    "    def __init__(self, df, transform=None):\n",
    "        self.df = df\n",
    "        self.transform = transform\n",
    "\n",
    "    def __len__(self):\n",
    "        return len(self.df)\n",
    "\n",
    "    def __getitem__(self, idx):\n",
    "        img_path = self.df.loc[idx, 'imgpath']\n",
    "        image = Image.open(img_path).convert('RGB')\n",
    "        label = self.df.loc[idx, 'encoded_labels']\n",
    "        if self.transform:\n",
    "            image = self.transform(image)\n",
    "        return image, label\n",
    "\n",
    "train_transform = transforms.Compose([\n",
    "    transforms.RandomHorizontalFlip(),               # Random horizontal flip\n",
    "    transforms.RandomRotation(10),                   # Random rotation up to 10 degrees\n",
    "    transforms.RandomResizedCrop(224, scale=(0.9, 1.0)),  # Random zoom\n",
    "    transforms.ColorJitter(contrast=0.1),            # Random contrast adjustment\n",
    "    transforms.ToTensor(),                           # Convert to tensor\n",
    "    transforms.Normalize(mean=[0.485, 0.456, 0.406], std=[0.229, 0.224, 0.225])  # Normalization\n",
    "])\n",
    "\n",
    "transform = transforms.Compose([\n",
    "    transforms.Resize((224, 224)),\n",
    "    transforms.ToTensor(),\n",
    "    transforms.Normalize(mean=[0.485, 0.456, 0.406], std=[0.229, 0.224, 0.225])\n",
    "])\n",
    "\n",
    "train_dataset = CustomDataset(train_df, transform=train_transform)\n",
    "valid_dataset = CustomDataset(valid_df, transform=transform)\n",
    "test_dataset = CustomDataset(test_df, transform=transform)\n",
    "print(f\"Train dataset size: {len(train_dataset)}\")\n",
    "print(f\"Valid dataset size: {len(valid_dataset)}\")\n",
    "print(f\"Test dataset size: {len(test_dataset)}\")"
   ]
  },
  {
   "cell_type": "markdown",
   "metadata": {
    "id": "TqV8tkp-ebgI"
   },
   "source": [
    "### Preparing Data Loaders"
   ]
  },
  {
   "cell_type": "code",
   "execution_count": 8,
   "metadata": {
    "id": "Ep66GCmNc_zc"
   },
   "outputs": [],
   "source": [
    "train_loader = DataLoader(train_dataset, batch_size=BATCH_SIZE, shuffle=True)\n",
    "valid_loader = DataLoader(valid_dataset, batch_size=BATCH_SIZE, shuffle=False)\n",
    "test_loader = DataLoader(test_dataset, batch_size=BATCH_SIZE, shuffle=False)"
   ]
  },
  {
   "cell_type": "code",
   "execution_count": null,
   "metadata": {
    "id": "J2c8uBMniIVm"
   },
   "outputs": [],
   "source": [
    "#print(model)"
   ]
  },
  {
   "cell_type": "markdown",
   "metadata": {
    "id": "8_smjfmhhsry"
   },
   "source": [
    "### Sanity check if loaders work"
   ]
  },
  {
   "cell_type": "code",
   "execution_count": 9,
   "metadata": {
    "colab": {
     "base_uri": "https://localhost:8080/"
    },
    "id": "eddXEyUZg7T-",
    "outputId": "a3ceb562-ddd2-4db1-a2fc-43e1a94004ab"
   },
   "outputs": [
    {
     "name": "stdout",
     "output_type": "stream",
     "text": [
      "Images batch shape: torch.Size([8, 3, 224, 224])\n",
      "Labels batch shape: torch.Size([8])\n",
      "Images batch shape: torch.Size([8, 3, 224, 224])\n",
      "Labels batch shape: torch.Size([8])\n",
      "Images batch shape: torch.Size([8, 3, 224, 224])\n",
      "Labels batch shape: torch.Size([8])\n"
     ]
    }
   ],
   "source": [
    "for images, labels in train_loader:\n",
    "    print(\"Images batch shape:\", images.shape)\n",
    "    print(\"Labels batch shape:\", labels.shape)\n",
    "    #print(\"Labels batch values:\", labels)\n",
    "    #print(\"Images[0]\", images[0])\n",
    "    #print(\"Labels[0]\", labels[0])\n",
    "    break  # Just print for one batch\n",
    "\n",
    "for images, labels in valid_loader:\n",
    "    print(\"Images batch shape:\", images.shape)\n",
    "    print(\"Labels batch shape:\", labels.shape)\n",
    "    break\n",
    "\n",
    "\n",
    "for images, labels in test_loader:\n",
    "    print(\"Images batch shape:\", images.shape)\n",
    "    print(\"Labels batch shape:\", labels.shape)\n",
    "    break\n"
   ]
  },
  {
   "cell_type": "markdown",
   "metadata": {
    "id": "qpQkN3pCzkHv"
   },
   "source": [
    "## Transfer Learning :- Only training the FC layer"
   ]
  },
  {
   "cell_type": "code",
   "execution_count": null,
   "metadata": {
    "id": "JVrmSsawzjly"
   },
   "outputs": [],
   "source": [
    "model = models.efficientnet_b3(pretrained=True)\n",
    "#model = models.resnet50(pretrained=True)\n",
    "#model = models.denseNet121(pretrained=True)\n",
    "#model = models.mobilenet_v2(pretrained=True)\n",
    "num_ftrs = model.classifier[1].in_features\n",
    "model.classifier[1] = nn.Linear(num_ftrs, 25)\n",
    "\n",
    "for param in model.parameters():\n",
    "    param.requires_grad = False\n",
    "\n",
    "# Unfreeze oly the classifier head\n",
    "for param in model.classifier[1].parameters():\n",
    "    param.requires_grad = True\n",
    "\n",
    "model = model.to(device)\n",
    "criterion = nn.CrossEntropyLoss()\n",
    "optimizer = optim.Adam(model.classifier[1].parameters(), lr=0.001)\n",
    "\n",
    "train_losses = []\n",
    "valid_losses = []\n",
    "train_acc = []\n",
    "valid_acc = []\n",
    "best_valid_loss = float('inf')"
   ]
  },
  {
   "cell_type": "markdown",
   "metadata": {
    "id": "CPtXwPNP0J_z"
   },
   "source": [
    "### Training and Validating :- Transfer Learning"
   ]
  },
  {
   "cell_type": "code",
   "execution_count": null,
   "metadata": {
    "id": "ssCUOR7B0Ohl"
   },
   "outputs": [],
   "source": [
    "num_epochs = 1\n",
    "BATCH_SIZE = batch_size = 50\n",
    "lr = 0.001\n",
    "\n",
    "from tqdm import tqdm\n",
    "for epoch in range(num_epochs):\n",
    "    print(f\"\\nEpoch {epoch+1}/{num_epochs}\")\n",
    "    model.train()\n",
    "    running_train_loss = 0.0\n",
    "    running_val_loss = 0.0\n",
    "    correct_train = 0\n",
    "    total_train = 0\n",
    "    correct_val = 0\n",
    "    total_val = 0\n",
    "\n",
    "    for images, labels in tqdm(train_loader, desc = \"Training\", leave = False):\n",
    "        images, labels = images.to(device), labels.to(device)\n",
    "        optimizer.zero_grad()\n",
    "        outputs = model(images)\n",
    "        loss = criterion(outputs, labels)\n",
    "        loss.backward()\n",
    "        optimizer.step()\n",
    "        running_train_loss += loss.item()\n",
    "        _, predicted = torch.max(outputs, 1)\n",
    "        total_train += labels.size(0)\n",
    "        correct_train += (predicted == labels).sum().item()\n",
    "\n",
    "    model.eval()\n",
    "    with torch.no_grad():\n",
    "        for images, labels in tqdm(valid_loader, desc = \"Validating\", leave = False):\n",
    "            images, labels = images.to(device), labels.to(device)\n",
    "            outputs = model(images)\n",
    "            loss = criterion(outputs, labels)\n",
    "            running_val_loss += loss.item()\n",
    "            _, predicted = torch.max(outputs, 1)\n",
    "            total_val += labels.size(0)\n",
    "            correct_val += (predicted == labels).sum().item()\n",
    "\n",
    "    epoch_train_loss = running_train_loss / len(train_loader)\n",
    "    epoch_val_loss = running_val_loss / len(valid_loader)\n",
    "    train_losses.append(epoch_train_loss)\n",
    "    valid_losses.append(epoch_val_loss)\n",
    "\n",
    "    epoch_train_acc = correct_train / total_train\n",
    "    epoch_val_acc = correct_val / total_val\n",
    "    train_acc.append(epoch_train_acc)\n",
    "    valid_acc.append(epoch_val_acc)\n",
    "\n",
    "    print(f'Epoch {epoch+1}/{num_epochs}, Train Loss: {epoch_train_loss:.4f}, Train Acc: {epoch_train_acc:.4f}, Val Loss: {epoch_val_loss:.4f}, Val Acc: {epoch_val_acc:.4f}')\n",
    "\n",
    "    if epoch_val_loss < best_valid_loss:\n",
    "        best_valid_loss = epoch_val_loss\n",
    "        #torch.save(model.state_dict(), 'best_model_TL.pth')\n",
    "        print(f\"Model weights saved for epoch {epoch + 1} with validation loss: {best_valid_loss:.4f}\")\n",
    "\n",
    "    # Clear CUDA cache\n",
    "    torch.cuda.empty_cache()\n",
    "\n",
    "print(f\"Batch size: {BATCH_SIZE}, Learning rate: {lr}, Number of epochs: {num_epochs}\")\n",
    "print(f\"Best training accuracy: {max(train_acc):.2f}%\")\n",
    "print(f\"Best validation accuracy: {max(valid_acc):.2f}%\")\n",
    "print(\"Plots for current hyperparameter combination:\")\n",
    "epochs_range = range(1, num_epochs + 1)\n",
    "plt.figure(figsize=(8, 6))\n",
    "# Plot loss\n",
    "plt.subplot(1, 2, 1)\n",
    "plt.plot(epochs_range, train_losses, label='Train Loss')\n",
    "plt.plot(epochs_range, valid_losses, label='Val Loss')\n",
    "plt.xlabel('Epochs')\n",
    "plt.ylabel('Loss')\n",
    "plt.title('Train and Validation Loss')\n",
    "plt.legend()\n",
    "# Plot accuracy\n",
    "plt.subplot(1, 2, 2)\n",
    "plt.plot(epochs_range, train_acc, label='Train Accuracy')\n",
    "plt.plot(epochs_range, valid_acc, label='Val Accuracy')\n",
    "plt.xlabel('Epochs')\n",
    "plt.ylabel('Accuracy')\n",
    "plt.title('Train and Validation Accuracy')\n",
    "plt.legend()\n",
    "plt.tight_layout()\n",
    "plt.show()"
   ]
  },
  {
   "cell_type": "markdown",
   "metadata": {
    "id": "zQw5mS6i2SF8"
   },
   "source": [
    "## Finetuning :- Unfreeze last 2 blocks and FC layer (TL init)"
   ]
  },
  {
   "cell_type": "code",
   "execution_count": null,
   "metadata": {
    "id": "Yzr9EY-q2RIX"
   },
   "outputs": [],
   "source": [
    "model = models.efficientnet_b3(pretrained=True)\n",
    "#model = models.resnet50(pretrained=True)\n",
    "#model = models.denseNet121(pretrained=True)\n",
    "#model = models.mobilenet_v2(pretrained=True)\n",
    "num_ftrs = model.classifier[1].in_features\n",
    "model.classifier[1] = nn.Linear(num_ftrs, 25)\n",
    "# Load the model weights\n",
    "model_weights_path = 'best_model_TL.pth'\n",
    "model.load_state_dict(torch.load(model_weights_path))\n",
    "model.to(device)\n",
    "\n",
    "# Unfreeze the classifier head and the last two blocks (for example)\n",
    "for param in model.parameters():\n",
    "    param.requires_grad = False  # Freeze all parameters first\n",
    "\n",
    "for name, child in model.named_children():\n",
    "    if name == 'features':  # \"features\" contains the main layers\n",
    "        for layer_name, layer in list(child.named_children())[-2:]:  # Unfreeze last two blocks\n",
    "            for param in layer.parameters():\n",
    "                param.requires_grad = True\n",
    "\n",
    "for param in model.classifier[1].parameters():  # Unfreeze the classifier head\n",
    "    param.requires_grad = True\n",
    "\n",
    "lr = 0.00001\n",
    "criterion = nn.CrossEntropyLoss()\n",
    "optimizer = optim.Adam(model.parameters(), lr=lr)"
   ]
  },
  {
   "cell_type": "markdown",
   "metadata": {
    "id": "R-ACs87_2fnR"
   },
   "source": [
    "### Training and Validating"
   ]
  },
  {
   "cell_type": "code",
   "execution_count": null,
   "metadata": {
    "id": "ctWZJYqK2i7r"
   },
   "outputs": [],
   "source": [
    "num_epochs = 1\n",
    "BATCH_SIZE = batch_size = 50\n",
    "lr = 0.00001\n",
    "\n",
    "from tqdm import tqdm\n",
    "\n",
    "for epoch in range(num_epochs):\n",
    "    print(f\"\\nEpoch {epoch+1}/{num_epochs}\")\n",
    "    model.train()\n",
    "    running_train_loss = 0.0\n",
    "    running_val_loss = 0.0\n",
    "    correct_train = 0\n",
    "    total_train = 0\n",
    "    correct_val = 0\n",
    "    total_val = 0\n",
    "\n",
    "    for images, labels in tqdm(train_loader, desc = \"Training\", leave = True):\n",
    "        images, labels = images.to(device), labels.to(device)\n",
    "        optimizer.zero_grad()\n",
    "        outputs = model(images)\n",
    "        loss = criterion(outputs, labels)\n",
    "        loss.backward()\n",
    "        optimizer.step()\n",
    "        running_train_loss += loss.item()\n",
    "        _, predicted = torch.max(outputs, 1)\n",
    "        total_train += labels.size(0)\n",
    "        correct_train += (predicted == labels).sum().item()\n",
    "\n",
    "    model.eval()\n",
    "    with torch.no_grad():\n",
    "        for images, labels in tqdm(valid_loader, desc = \"Validating\", leave = True):\n",
    "            images, labels = images.to(device), labels.to(device)\n",
    "            outputs = model(images)\n",
    "            loss = criterion(outputs, labels)\n",
    "            running_val_loss += loss.item()\n",
    "            _, predicted = torch.max(outputs, 1)\n",
    "            total_val += labels.size(0)\n",
    "            correct_val += (predicted == labels).sum().item()\n",
    "\n",
    "    epoch_train_loss = running_train_loss / len(train_loader)\n",
    "    epoch_val_loss = running_val_loss / len(valid_loader)\n",
    "    train_losses.append(epoch_train_loss)\n",
    "    valid_losses.append(epoch_val_loss)\n",
    "\n",
    "    epoch_train_acc = correct_train / total_train\n",
    "    epoch_val_acc = correct_val / total_val\n",
    "    train_acc.append(epoch_train_acc)\n",
    "    valid_acc.append(epoch_val_acc)\n",
    "\n",
    "    print(f'Epoch {epoch+1}/{num_epochs}, Train Loss: {epoch_train_loss:.4f}, Train Acc: {epoch_train_acc:.4f}, Val Loss: {epoch_val_loss:.4f}, Val Acc: {epoch_val_acc:.4f}')\n",
    "\n",
    "    if epoch_val_loss < best_valid_loss:\n",
    "        best_valid_loss = epoch_val_loss\n",
    "        #torch.save(model.state_dict(), 'best_model_FT_Last2Layer.pth')\n",
    "        print(f\"Model weights saved for epoch {epoch + 1} with validation loss: {best_valid_loss:.4f}\")\n",
    "\n",
    "    # Clear CUDA cache\n",
    "    torch.cuda.empty_cache()\n",
    "\n",
    "print(f\"Batch size: {BATCH_SIZE}, Learning rate: {lr}, Number of epochs: {num_epochs}\")\n",
    "print(f\"Best training accuracy: {max(train_acc):.2f}%\")\n",
    "print(f\"Best validation accuracy: {max(valid_acc):.2f}%\")\n",
    "print(\"Plots for current hyperparameter combination:\")\n",
    "epochs_range = range(1, num_epochs + 1)\n",
    "plt.figure(figsize=(8, 6))\n",
    "# Plot loss\n",
    "plt.subplot(1, 2, 1)\n",
    "plt.plot(epochs_range, train_losses, label='Train Loss')\n",
    "plt.plot(epochs_range, valid_losses, label='Val Loss')\n",
    "plt.xlabel('Epochs')\n",
    "plt.ylabel('Loss')\n",
    "plt.title('Train and Validation Loss')\n",
    "plt.legend()\n",
    "# Plot accuracy\n",
    "plt.subplot(1, 2, 2)\n",
    "plt.plot(epochs_range, train_acc, label='Train Accuracy')\n",
    "plt.plot(epochs_range, valid_acc, label='Val Accuracy')\n",
    "plt.xlabel('Epochs')\n",
    "plt.ylabel('Accuracy')\n",
    "plt.title('Train and Validation Accuracy')\n",
    "plt.legend()\n",
    "plt.tight_layout()\n",
    "plt.show()\n",
    "\n"
   ]
  },
  {
   "cell_type": "markdown",
   "metadata": {
    "id": "65TP5vSC096X"
   },
   "source": [
    "## Train all layers of EfficientNetB3 except batch norm (other models commented out)"
   ]
  },
  {
   "cell_type": "code",
   "execution_count": null,
   "metadata": {
    "id": "DJjKwi3Z1NII"
   },
   "outputs": [],
   "source": [
    "# Load the pretrained EfficientNetB3 model\n",
    "model = models.efficientnet_b3(pretrained=True)\n",
    "#model = models.resnet50(pretrained=True)\n",
    "#model = models.denseNet121(pretrained=True)\n",
    "#model = models.mobilenet_v2(pretrained=True)\n",
    "num_ftrs = model.classifier[1].in_features\n",
    "model.classifier[1] = nn.Linear(num_ftrs, 25)\n",
    "model = model.to(device)\n",
    "\n",
    "# Set BatchNorm layers as non-trainable for fine-tuning\n",
    "for param in model.parameters():\n",
    "    param.requires_grad = True\n",
    "\n",
    "for module in model.modules():\n",
    "    if isinstance(module, nn.BatchNorm2d):\n",
    "        module.eval()  # Set to evaluation mode\n",
    "        for param in module.parameters():\n",
    "            param.requires_grad = False\n",
    "\n",
    "\n",
    "lr = 0.001\n",
    "criterion = nn.CrossEntropyLoss()\n",
    "optimizer = optim.Adam(model.parameters(), lr=lr)\n",
    "\n",
    "train_losses = []\n",
    "valid_losses = []\n",
    "train_acc = []\n",
    "valid_acc = []\n",
    "best_valid_loss = float('inf')\n",
    "\n",
    "num_epochs = 10\n",
    "\n",
    "print(f\"Batch size: {BATCH_SIZE}, Learning rate: {lr}, Number of epochs: {num_epochs}\")"
   ]
  },
  {
   "cell_type": "markdown",
   "metadata": {
    "id": "Rv_c-dseeW6c"
   },
   "source": [
    "### Training and Validating"
   ]
  },
  {
   "cell_type": "code",
   "execution_count": null,
   "metadata": {
    "id": "7tkKbVExc_zd"
   },
   "outputs": [],
   "source": [
    "num_epochs = 1\n",
    "BATCH_SIZE = batch_size = 8\n",
    "lr = 0.001\n",
    "\n",
    "from tqdm import tqdm\n",
    "\n",
    "for epoch in range(num_epochs):\n",
    "    print(f\"\\nEpoch {epoch+1}/{num_epochs}\")\n",
    "    model.train()\n",
    "    running_train_loss = 0.0\n",
    "    running_val_loss = 0.0\n",
    "    correct_train = 0\n",
    "    total_train = 0\n",
    "    correct_val = 0\n",
    "    total_val = 0\n",
    "\n",
    "    for images, labels in tqdm(train_loader, desc = \"Training\", leave = True):\n",
    "        images, labels = images.to(device), labels.to(device)\n",
    "        optimizer.zero_grad()\n",
    "        outputs = model(images)\n",
    "        loss = criterion(outputs, labels)\n",
    "        loss.backward()\n",
    "        optimizer.step()\n",
    "        running_train_loss += loss.item()\n",
    "        _, predicted = torch.max(outputs, 1)\n",
    "        total_train += labels.size(0)\n",
    "        correct_train += (predicted == labels).sum().item()\n",
    "\n",
    "    model.eval()\n",
    "    with torch.no_grad():\n",
    "        for images, labels in tqdm(valid_loader, desc = \"Validating\", leave = True):\n",
    "            images, labels = images.to(device), labels.to(device)\n",
    "            outputs = model(images)\n",
    "            loss = criterion(outputs, labels)\n",
    "            running_val_loss += loss.item()\n",
    "            _, predicted = torch.max(outputs, 1)\n",
    "            total_val += labels.size(0)\n",
    "            correct_val += (predicted == labels).sum().item()\n",
    "\n",
    "    epoch_train_loss = running_train_loss / len(train_loader)\n",
    "    epoch_val_loss = running_val_loss / len(valid_loader)\n",
    "    train_losses.append(epoch_train_loss)\n",
    "    valid_losses.append(epoch_val_loss)\n",
    "\n",
    "    epoch_train_acc = correct_train / total_train\n",
    "    epoch_val_acc = correct_val / total_val\n",
    "    train_acc.append(epoch_train_acc)\n",
    "    valid_acc.append(epoch_val_acc)\n",
    "\n",
    "    print(f'Epoch {epoch+1}/{num_epochs}, Train Loss: {epoch_train_loss:.4f}, Train Acc: {epoch_train_acc:.4f}, Val Loss: {epoch_val_loss:.4f}, Val Acc: {epoch_val_acc:.4f}')\n",
    "\n",
    "    if epoch_val_loss < best_valid_loss:\n",
    "        best_valid_loss = epoch_val_loss\n",
    "        torch.save(model.state_dict(), 'best_model_FT.pth')\n",
    "        print(f\"Model weights saved for epoch {epoch + 1} with validation loss: {best_valid_loss:.4f}\")\n",
    "\n",
    "    # Clear CUDA cache\n",
    "    torch.cuda.empty_cache()\n",
    "\n",
    "print(f\"Batch size: {BATCH_SIZE}, Learning rate: {lr}, Number of epochs: {num_epochs}\")\n",
    "print(f\"Best training accuracy: {max(train_acc):.2f}%\")\n",
    "print(f\"Best validation accuracy: {max(valid_acc):.2f}%\")\n",
    "print(\"Plots for current hyperparameter combination:\")\n",
    "epochs_range = range(1, num_epochs + 1)\n",
    "plt.figure(figsize=(8, 6))\n",
    "# Plot loss\n",
    "plt.subplot(1, 2, 1)\n",
    "plt.plot(epochs_range, train_losses, label='Train Loss')\n",
    "plt.plot(epochs_range, valid_losses, label='Val Loss')\n",
    "plt.xlabel('Epochs')\n",
    "plt.ylabel('Loss')\n",
    "plt.title('Train and Validation Loss')\n",
    "plt.legend()\n",
    "# Plot accuracy\n",
    "plt.subplot(1, 2, 2)\n",
    "plt.plot(epochs_range, train_acc, label='Train Accuracy')\n",
    "plt.plot(epochs_range, valid_acc, label='Val Accuracy')\n",
    "plt.xlabel('Epochs')\n",
    "plt.ylabel('Accuracy')\n",
    "plt.title('Train and Validation Accuracy')\n",
    "plt.legend()\n",
    "plt.tight_layout()\n",
    "plt.show()\n"
   ]
  },
  {
   "cell_type": "markdown",
   "metadata": {
    "id": "XjqvwYGzikxt"
   },
   "source": [
    "## Reconstructing the model from the best weights"
   ]
  },
  {
   "cell_type": "code",
   "execution_count": null,
   "metadata": {
    "id": "ZOWv4F11ikIr"
   },
   "outputs": [],
   "source": [
    "model = models.efficientnet_b3(pretrained=True)\n",
    "#model = models.resnet50(pretrained=True)\n",
    "#model = models.denseNet121(pretrained=True)\n",
    "#model = models.mobilenet_v2(pretrained=True)\n",
    "num_ftrs = model.classifier[1].in_features\n",
    "model.classifier[1] = nn.Linear(num_ftrs, 25)\n",
    "# Load the model weights\n",
    "model_weights_path = 'best_model.pth'\n",
    "model.load_state_dict(torch.load(model_weights_path))\n",
    "model.to(device)"
   ]
  },
  {
   "cell_type": "markdown",
   "metadata": {
    "id": "xTqkfn9pjkFJ"
   },
   "source": [
    "## Evaluating the models on the Test set\n",
    "\n",
    "\n",
    "*   TL model\n",
    "*   FT last blocks unfreezed with FC (TL model init)\n",
    "*   FT every layer except batch norm\n",
    "\n",
    "\n",
    "\n"
   ]
  },
  {
   "cell_type": "markdown",
   "metadata": {
    "id": "mfZQXMPDB-I6"
   },
   "source": [
    "## Train all layers of DenseNet121 except the batch norm layers"
   ]
  },
  {
   "cell_type": "code",
   "execution_count": 12,
   "metadata": {
    "colab": {
     "base_uri": "https://localhost:8080/"
    },
    "id": "ZAMSXIWoB9pn",
    "outputId": "7a28730f-d60f-4258-cf0f-3dcc02caab48"
   },
   "outputs": [
    {
     "name": "stdout",
     "output_type": "stream",
     "text": [
      "Batch size: 8, Learning rate: 0.001, Number of epochs: 10\n"
     ]
    }
   ],
   "source": [
    "model = models.densenet121(pretrained=True)\n",
    "num_ftrs = model.classifier.in_features\n",
    "model.classifier = nn.Linear(num_ftrs, 25)\n",
    "model = model.to(device)\n",
    "\n",
    "# Set BatchNorm layers as non-trainable for fine-tuning\n",
    "for param in model.parameters():\n",
    "    param.requires_grad = True\n",
    "\n",
    "for module in model.modules():\n",
    "    if isinstance(module, nn.BatchNorm2d):\n",
    "        module.eval()  # Set to evaluation mode\n",
    "        for param in module.parameters():\n",
    "            param.requires_grad = False\n",
    "\n",
    "\n",
    "lr = 0.001\n",
    "num_epochs = 10\n",
    "BATCH_SIZE = batch_size = 8\n",
    "criterion = nn.CrossEntropyLoss()\n",
    "optimizer = optim.Adam(model.parameters(), lr=lr)\n",
    "\n",
    "train_losses = []\n",
    "valid_losses = []\n",
    "train_acc = []\n",
    "valid_acc = []\n",
    "best_valid_loss = float('inf')\n",
    "\n",
    "print(f\"Batch size: {BATCH_SIZE}, Learning rate: {lr}, Number of epochs: {num_epochs}\")"
   ]
  },
  {
   "cell_type": "markdown",
   "metadata": {
    "id": "Q5m8HCdbDOOc"
   },
   "source": [
    "### Training and Validating"
   ]
  },
  {
   "cell_type": "code",
   "execution_count": 14,
   "metadata": {
    "colab": {
     "background_save": true,
     "base_uri": "https://localhost:8080/"
    },
    "id": "Q40TjrqwDQK4",
    "outputId": "c71c9202-f4bc-4071-f773-ef4435baf9fe"
   },
   "outputs": [
    {
     "name": "stdout",
     "output_type": "stream",
     "text": [
      "\n",
      "Epoch 1/10\n"
     ]
    },
    {
     "name": "stderr",
     "output_type": "stream",
     "text": [
      "Training: 100%|██████████| 3750/3750 [09:14<00:00,  6.77it/s]\n",
      "Validating: 100%|██████████| 469/469 [00:35<00:00, 13.23it/s]\n"
     ]
    },
    {
     "name": "stdout",
     "output_type": "stream",
     "text": [
      "Epoch 1/10, Train Loss: 1.3905, Train Acc: 0.5888, Val Loss: 0.8947, Val Acc: 0.7501\n",
      "Model weights saved for epoch 1 with validation loss: 0.8947\n",
      "\n",
      "Epoch 2/10\n"
     ]
    },
    {
     "name": "stderr",
     "output_type": "stream",
     "text": [
      "Training: 100%|██████████| 3750/3750 [09:11<00:00,  6.79it/s]\n",
      "Validating: 100%|██████████| 469/469 [00:34<00:00, 13.72it/s]\n"
     ]
    },
    {
     "name": "stdout",
     "output_type": "stream",
     "text": [
      "Epoch 2/10, Train Loss: 0.7147, Train Acc: 0.7898, Val Loss: 0.4412, Val Acc: 0.8659\n",
      "Model weights saved for epoch 2 with validation loss: 0.4412\n",
      "\n",
      "Epoch 3/10\n"
     ]
    },
    {
     "name": "stderr",
     "output_type": "stream",
     "text": [
      "Training: 100%|██████████| 3750/3750 [09:10<00:00,  6.81it/s]\n",
      "Validating: 100%|██████████| 469/469 [00:33<00:00, 14.03it/s]\n"
     ]
    },
    {
     "name": "stdout",
     "output_type": "stream",
     "text": [
      "Epoch 3/10, Train Loss: 0.5375, Train Acc: 0.8441, Val Loss: 0.3819, Val Acc: 0.8925\n",
      "Model weights saved for epoch 3 with validation loss: 0.3819\n",
      "\n",
      "Epoch 4/10\n"
     ]
    },
    {
     "name": "stderr",
     "output_type": "stream",
     "text": [
      "Training: 100%|██████████| 3750/3750 [09:12<00:00,  6.79it/s]\n",
      "Validating: 100%|██████████| 469/469 [00:34<00:00, 13.64it/s]\n"
     ]
    },
    {
     "name": "stdout",
     "output_type": "stream",
     "text": [
      "Epoch 4/10, Train Loss: 0.4342, Train Acc: 0.8729, Val Loss: 0.3709, Val Acc: 0.8843\n",
      "Model weights saved for epoch 4 with validation loss: 0.3709\n",
      "\n",
      "Epoch 5/10\n"
     ]
    },
    {
     "name": "stderr",
     "output_type": "stream",
     "text": [
      "Training: 100%|██████████| 3750/3750 [09:10<00:00,  6.82it/s]\n",
      "Validating: 100%|██████████| 469/469 [00:33<00:00, 13.86it/s]\n"
     ]
    },
    {
     "name": "stdout",
     "output_type": "stream",
     "text": [
      "Epoch 5/10, Train Loss: 0.3683, Train Acc: 0.8909, Val Loss: 0.2494, Val Acc: 0.9216\n",
      "Model weights saved for epoch 5 with validation loss: 0.2494\n",
      "\n",
      "Epoch 6/10\n"
     ]
    },
    {
     "name": "stderr",
     "output_type": "stream",
     "text": [
      "Training: 100%|██████████| 3750/3750 [09:09<00:00,  6.83it/s]\n",
      "Validating: 100%|██████████| 469/469 [00:35<00:00, 13.31it/s]\n"
     ]
    },
    {
     "name": "stdout",
     "output_type": "stream",
     "text": [
      "Epoch 6/10, Train Loss: 0.3218, Train Acc: 0.9051, Val Loss: 0.2497, Val Acc: 0.9275\n",
      "\n",
      "Epoch 7/10\n"
     ]
    },
    {
     "name": "stderr",
     "output_type": "stream",
     "text": [
      "Training: 100%|██████████| 3750/3750 [09:11<00:00,  6.80it/s]\n",
      "Validating: 100%|██████████| 469/469 [00:35<00:00, 13.33it/s]\n"
     ]
    },
    {
     "name": "stdout",
     "output_type": "stream",
     "text": [
      "Epoch 7/10, Train Loss: 0.2754, Train Acc: 0.9179, Val Loss: 0.2633, Val Acc: 0.9221\n",
      "\n",
      "Epoch 8/10\n"
     ]
    },
    {
     "name": "stderr",
     "output_type": "stream",
     "text": [
      "Training: 100%|██████████| 3750/3750 [09:13<00:00,  6.78it/s]\n",
      "Validating: 100%|██████████| 469/469 [00:33<00:00, 14.05it/s]\n"
     ]
    },
    {
     "name": "stdout",
     "output_type": "stream",
     "text": [
      "Epoch 8/10, Train Loss: 0.2471, Train Acc: 0.9259, Val Loss: 0.2316, Val Acc: 0.9363\n",
      "Model weights saved for epoch 8 with validation loss: 0.2316\n",
      "\n",
      "Epoch 9/10\n"
     ]
    },
    {
     "name": "stderr",
     "output_type": "stream",
     "text": [
      "Training: 100%|██████████| 3750/3750 [09:10<00:00,  6.81it/s]\n",
      "Validating: 100%|██████████| 469/469 [00:33<00:00, 14.12it/s]\n"
     ]
    },
    {
     "name": "stdout",
     "output_type": "stream",
     "text": [
      "Epoch 9/10, Train Loss: 0.2250, Train Acc: 0.9342, Val Loss: 0.1898, Val Acc: 0.9403\n",
      "Model weights saved for epoch 9 with validation loss: 0.1898\n",
      "\n",
      "Epoch 10/10\n"
     ]
    },
    {
     "name": "stderr",
     "output_type": "stream",
     "text": [
      "Training: 100%|██████████| 3750/3750 [09:08<00:00,  6.84it/s]\n",
      "Validating: 100%|██████████| 469/469 [00:35<00:00, 13.36it/s]"
     ]
    },
    {
     "name": "stdout",
     "output_type": "stream",
     "text": [
      "Epoch 10/10, Train Loss: 0.2014, Train Acc: 0.9402, Val Loss: 0.2008, Val Acc: 0.9488\n",
      "Batch size: 8, Learning rate: 0.001, Number of epochs: 10\n",
      "Best training accuracy: 0.94%\n",
      "Best validation accuracy: 0.95%\n",
      "Plots for current hyperparameter combination:\n"
     ]
    },
    {
     "name": "stderr",
     "output_type": "stream",
     "text": [
      "\n"
     ]
    },
    {
     "data": {
      "image/png": "[encoded data removed]",
      "text/plain": [
       "<Figure size 800x600 with 2 Axes>"
      ]
     },
     "metadata": {},
     "output_type": "display_data"
    }
   ],
   "source": [
    "from tqdm import tqdm\n",
    "\n",
    "for epoch in range(num_epochs):\n",
    "    print(f\"\\nEpoch {epoch+1}/{num_epochs}\")\n",
    "    model.train()\n",
    "    running_train_loss = 0.0\n",
    "    running_val_loss = 0.0\n",
    "    correct_train = 0\n",
    "    total_train = 0\n",
    "    correct_val = 0\n",
    "    total_val = 0\n",
    "\n",
    "    for images, labels in tqdm(train_loader, desc = \"Training\", leave = True):\n",
    "        images, labels = images.to(device), labels.to(device)\n",
    "        optimizer.zero_grad()\n",
    "        outputs = model(images)\n",
    "        loss = criterion(outputs, labels)\n",
    "        loss.backward()\n",
    "        optimizer.step()\n",
    "        running_train_loss += loss.item()\n",
    "        _, predicted = torch.max(outputs, 1)\n",
    "        total_train += labels.size(0)\n",
    "        correct_train += (predicted == labels).sum().item()\n",
    "\n",
    "    model.eval()\n",
    "    with torch.no_grad():\n",
    "        for images, labels in tqdm(valid_loader, desc = \"Validating\", leave = True):\n",
    "            images, labels = images.to(device), labels.to(device)\n",
    "            outputs = model(images)\n",
    "            loss = criterion(outputs, labels)\n",
    "            running_val_loss += loss.item()\n",
    "            _, predicted = torch.max(outputs, 1)\n",
    "            total_val += labels.size(0)\n",
    "            correct_val += (predicted == labels).sum().item()\n",
    "\n",
    "    epoch_train_loss = running_train_loss / len(train_loader)\n",
    "    epoch_val_loss = running_val_loss / len(valid_loader)\n",
    "    train_losses.append(epoch_train_loss)\n",
    "    valid_losses.append(epoch_val_loss)\n",
    "\n",
    "    epoch_train_acc = correct_train / total_train\n",
    "    epoch_val_acc = correct_val / total_val\n",
    "    train_acc.append(epoch_train_acc)\n",
    "    valid_acc.append(epoch_val_acc)\n",
    "\n",
    "    print(f'Epoch {epoch+1}/{num_epochs}, Train Loss: {epoch_train_loss:.4f}, Train Acc: {epoch_train_acc:.4f}, Val Loss: {epoch_val_loss:.4f}, Val Acc: {epoch_val_acc:.4f}')\n",
    "\n",
    "    if epoch_val_loss < best_valid_loss:\n",
    "        best_valid_loss = epoch_val_loss\n",
    "        torch.save(model.state_dict(), 'best_DN121_model_FT.pth')\n",
    "        print(f\"Model weights saved for epoch {epoch + 1} with validation loss: {best_valid_loss:.4f}\")\n",
    "\n",
    "    # Clear CUDA cache\n",
    "    torch.cuda.empty_cache()\n",
    "\n",
    "print(f\"Batch size: {BATCH_SIZE}, Learning rate: {lr}, Number of epochs: {num_epochs}\")\n",
    "print(f\"Best training accuracy: {max(train_acc):.2f}%\")\n",
    "print(f\"Best validation accuracy: {max(valid_acc):.2f}%\")\n",
    "print(\"Plots for current hyperparameter combination:\")\n",
    "epochs_range = range(1, num_epochs + 1)\n",
    "plt.figure(figsize=(8, 6))\n",
    "# Plot loss\n",
    "plt.subplot(1, 2, 1)\n",
    "plt.plot(epochs_range, train_losses, label='Train Loss')\n",
    "plt.plot(epochs_range, valid_losses, label='Val Loss')\n",
    "plt.xlabel('Epochs')\n",
    "plt.ylabel('Loss')\n",
    "plt.title('Train and Validation Loss')\n",
    "plt.legend()\n",
    "# Plot accuracy\n",
    "plt.subplot(1, 2, 2)\n",
    "plt.plot(epochs_range, train_acc, label='Train Accuracy')\n",
    "plt.plot(epochs_range, valid_acc, label='Val Accuracy')\n",
    "plt.xlabel('Epochs')\n",
    "plt.ylabel('Accuracy')\n",
    "plt.title('Train and Validation Accuracy')\n",
    "plt.legend()\n",
    "plt.tight_layout()\n",
    "plt.show()\n"
   ]
  },
  {
   "cell_type": "markdown",
   "metadata": {
    "id": "bQjRpiOuDpNn"
   },
   "source": [
    "### Evaluating model on test set"
   ]
  },
  {
   "cell_type": "code",
   "execution_count": null,
   "metadata": {
    "id": "YnGlAdixDxYI"
   },
   "outputs": [],
   "source": [
    "model = models.densenet121(pretrained=True)\n",
    "num_ftrs = model.classifier[1].in_features\n",
    "model.classifier[1] = nn.Linear(num_ftrs, 25)\n",
    "# Load the model weights\n",
    "#model_weights_path = 'best_model.pth'\n",
    "#model.load_state_dict(torch.load(model_weights_path))\n",
    "model.to(device)\n",
    "\n",
    "\n",
    "# Evaluate model on test set :-\n",
    "\n",
    "import seaborn as sns\n",
    "from sklearn.metrics import precision_score, recall_score, f1_score, roc_auc_score, confusion_matrix, roc_curve\n",
    "\n",
    "model.eval()\n",
    "test_accuracy = 0\n",
    "all_labels = []\n",
    "all_predictions = []\n",
    "all_probabilities = []\n",
    "\n",
    "with torch.no_grad():\n",
    "    for images, labels in test_loader:\n",
    "        images, labels = images.to(device), labels.to(device)\n",
    "        outputs = model(images)\n",
    "        _, predicted = torch.max(outputs, 1)\n",
    "        test_accuracy += (predicted == labels).sum().item()\n",
    "        all_labels.extend(labels.cpu().numpy())\n",
    "        all_predictions.extend(predicted.cpu().numpy())\n",
    "        all_probabilities.extend(F.softmax(outputs, dim=1).cpu().numpy())\n",
    "\n",
    "\n",
    "test_accuracy = test_accuracy / len(test_dataset)\n",
    "print(f'Test Accuracy: {test_accuracy:.4f}')\n",
    "\n",
    "\n",
    "# Calculate precision, recall, and F1-score\n",
    "precision = precision_score(all_labels, all_predictions, average='weighted')\n",
    "recall = recall_score(all_labels, all_predictions, average='weighted')\n",
    "f1 = f1_score(all_labels, all_predictions, average='weighted')\n",
    "\n",
    "print(f'Precision: {precision:.4f}')\n",
    "print(f'Recall: {recall:.4f}')\n",
    "print(f'F1-Score: {f1:.4f}')\n",
    "\n",
    "# Calculate ROC AUC score\n",
    "roc_auc = roc_auc_score(all_labels, all_probabilities, multi_class='ovr')\n",
    "print(f'ROC AUC Score: {roc_auc:.4f}')\n",
    "\n",
    "\"\"\"\n",
    "# Calculate Consfusion matrix\n",
    "conf_matrix = confusion_matrix(all_labels, all_predictions)\n",
    "print(\"Confusion Matrix:\")\n",
    "print(conf_matrix)\n",
    "\n",
    "# Plot Confusion matrix\n",
    "plt.figure(figsize=(10, 8))\n",
    "sns.heatmap(conf_matrix, annot=True, fmt='d', cmap='Blues', xticklabels=lb.classes_, yticklabels=lb.classes_)\n",
    "plt.xlabel('Predicted Labels')\n",
    "plt.ylabel('True Labels')\n",
    "plt.title('Confusion Matrix')\n",
    "plt.show()\n",
    "\n",
    "# Plot ROC - AUC curve :-\n",
    "fpr, tpr, _ = roc_curve(all_labels, all_probabilities, multi_class='ovr')\n",
    "plt.figure(figsize=(8, 6))\n",
    "plt.plot(fpr, tpr, color='darkorange', lw=2, label='ROC curve (area = %0.2f)' % roc_auc)\n",
    "plt.plot([0, 1], [0, 1], color='navy', lw=2, linestyle='--')\n",
    "plt.xlim([0.0, 1.0])\n",
    "plt.ylim([0.0, 1.05])\n",
    "plt.xlabel('False Positive Rate')\n",
    "plt.ylabel('True Positive Rate')\n",
    "plt.title('Receiver Operating Characteristic (ROC) Curve')\n",
    "plt.legend(loc=\"lower right\")\n",
    "plt.show()\n",
    "\"\"\"\n"
   ]
  }
 ],
 "metadata": {
  "accelerator": "GPU",
  "colab": {
   "collapsed_sections": [
    "qpQkN3pCzkHv",
    "zQw5mS6i2SF8"
   ],
   "gpuType": "T4",
   "provenance": []
  },
  "kernelspec": {
   "display_name": "Python 3",
   "name": "python3"
  },
  "language_info": {
   "codemirror_mode": {
    "name": "ipython",
    "version": 3
   },
   "file_extension": ".py",
   "mimetype": "text/x-python",
   "name": "python",
   "nbconvert_exporter": "python",
   "pygments_lexer": "ipython3",
   "version": "3.10.12"
  }
 },
 "nbformat": 4,
 "nbformat_minor": 0
}
